{
 "cells": [
  {
   "cell_type": "code",
   "execution_count": 1,
   "metadata": {},
   "outputs": [],
   "source": [
    "import pyodbc\n",
    "import pandas as pd\n",
    "import matplotlib.pyplot as plt\n",
    "import configparser\n",
    "from scipy import stats"
   ]
  },
  {
   "cell_type": "code",
   "execution_count": 2,
   "metadata": {},
   "outputs": [],
   "source": [
    "# Read Config file\n",
    "config = configparser.ConfigParser()\n",
    "config.read('config.ini')\n",
    "conn_str = 'Driver={SQL Server};Server=' + config['SQL_DATABASE']['SERVER'] + ';Database=' + config['SQL_DATABASE'][\n",
    "    'DATABASE'] + ';Trusted_Connection=yes;'"
   ]
  },
  {
   "cell_type": "code",
   "execution_count": 3,
   "metadata": {},
   "outputs": [],
   "source": [
    "# DB Connection\n",
    "conn = pyodbc.connect(conn_str)"
   ]
  },
  {
   "cell_type": "code",
   "execution_count": 4,
   "metadata": {},
   "outputs": [
    {
     "name": "stdout",
     "output_type": "stream",
     "text": [
      "   row_number                          order_id  \\\n",
      "0           1  cfcd208495d565ef66e7dff9f98764da   \n",
      "1           2  c4ca4238a0b923820dcc509a6f75849b   \n",
      "2           3  c81e728d9d4c2f636f067f89cc14862c   \n",
      "3           4  eccbc87e4b5ce2fe28308fd9f2a7baf3   \n",
      "4           5  a87ff679a2f3e71d9181a67b7542122c   \n",
      "\n",
      "                            user_id                           page_id  \\\n",
      "0  c81e728d9d4c2f636f067f89cc14862c  6f4922f45568161a8cdf4ad2299f6d23   \n",
      "1  eccbc87e4b5ce2fe28308fd9f2a7baf3  4e732ced3463d06de0ca9a15b6153677   \n",
      "2  eccbc87e4b5ce2fe28308fd9f2a7baf3  5c45a86277b8bf17bff6011be5cfb1b9   \n",
      "3  eccbc87e4b5ce2fe28308fd9f2a7baf3  fb339ad311d50a229e497085aad219c7   \n",
      "4  eccbc87e4b5ce2fe28308fd9f2a7baf3  fb339ad311d50a229e497085aad219c7   \n",
      "\n",
      "            product site_version                 time         title target  \n",
      "0          sneakers      desktop  2019-01-11 09:24:43  banner_click      0  \n",
      "1          sneakers      desktop  2019-01-09 09:38:51   banner_show      0  \n",
      "2  sports_nutrition      desktop  2019-01-09 09:12:45   banner_show      0  \n",
      "3           company      desktop  2019-01-03 08:58:18   banner_show      0  \n",
      "4           company      desktop  2019-01-03 08:59:15  banner_click      0  \n"
     ]
    }
   ],
   "source": [
    "# Read Data\n",
    "queryDF =pd.read_sql_query(config['SQL_QUERY']['QUERY'], conn)\n",
    "print(queryDF.head())"
   ]
  },
  {
   "cell_type": "code",
   "execution_count": 5,
   "metadata": {},
   "outputs": [
    {
     "name": "stdout",
     "output_type": "stream",
     "text": [
      "         row_number                           user_id  product site_version  \\\n",
      "count   1000.000000                              1000     1000         1000   \n",
      "unique          NaN                               330        5            2   \n",
      "top             NaN  45c48cce2e2d7fbdea1afc51c7c6ad26  clothes       mobile   \n",
      "freq            NaN                                17      223          766   \n",
      "mean     500.500000                               NaN      NaN          NaN   \n",
      "std      288.819436                               NaN      NaN          NaN   \n",
      "min        1.000000                               NaN      NaN          NaN   \n",
      "25%      250.750000                               NaN      NaN          NaN   \n",
      "50%      500.500000                               NaN      NaN          NaN   \n",
      "75%      750.250000                               NaN      NaN          NaN   \n",
      "max     1000.000000                               NaN      NaN          NaN   \n",
      "\n",
      "                       time        title target  \n",
      "count                  1000         1000   1000  \n",
      "unique                 1000            3      2  \n",
      "top     2019-02-19 20:18:33  banner_show      0  \n",
      "freq                      1          858    972  \n",
      "mean                    NaN          NaN    NaN  \n",
      "std                     NaN          NaN    NaN  \n",
      "min                     NaN          NaN    NaN  \n",
      "25%                     NaN          NaN    NaN  \n",
      "50%                     NaN          NaN    NaN  \n",
      "75%                     NaN          NaN    NaN  \n",
      "max                     NaN          NaN    NaN  \n"
     ]
    }
   ],
   "source": [
    "queryDF = queryDF.drop(['order_id','page_id'],axis=1)\n",
    "print(queryDF.describe(include='all'))"
   ]
  },
  {
   "cell_type": "code",
   "execution_count": 6,
   "metadata": {},
   "outputs": [
    {
     "data": {
      "text/plain": [
       "row_number      0\n",
       "user_id         0\n",
       "product         0\n",
       "site_version    0\n",
       "time            0\n",
       "title           0\n",
       "target          0\n",
       "dtype: int64"
      ]
     },
     "execution_count": 6,
     "metadata": {},
     "output_type": "execute_result"
    }
   ],
   "source": [
    "# Check missing values\n",
    "queryDF.isnull().sum()"
   ]
  },
  {
   "cell_type": "code",
   "execution_count": 7,
   "metadata": {},
   "outputs": [
    {
     "name": "stdout",
     "output_type": "stream",
     "text": [
      "<class 'pandas.core.frame.DataFrame'>\n",
      "RangeIndex: 1000 entries, 0 to 999\n",
      "Data columns (total 7 columns):\n",
      " #   Column        Non-Null Count  Dtype   \n",
      "---  ------        --------------  -----   \n",
      " 0   row_number    1000 non-null   int64   \n",
      " 1   user_id       1000 non-null   object  \n",
      " 2   product       1000 non-null   category\n",
      " 3   site_version  1000 non-null   category\n",
      " 4   time          1000 non-null   object  \n",
      " 5   title         1000 non-null   category\n",
      " 6   target        1000 non-null   object  \n",
      "dtypes: category(3), int64(1), object(3)\n",
      "memory usage: 233.5 KB\n",
      "None\n"
     ]
    },
    {
     "data": {
      "text/html": [
       "<div>\n",
       "<style scoped>\n",
       "    .dataframe tbody tr th:only-of-type {\n",
       "        vertical-align: middle;\n",
       "    }\n",
       "\n",
       "    .dataframe tbody tr th {\n",
       "        vertical-align: top;\n",
       "    }\n",
       "\n",
       "    .dataframe thead th {\n",
       "        text-align: right;\n",
       "    }\n",
       "</style>\n",
       "<table border=\"1\" class=\"dataframe\">\n",
       "  <thead>\n",
       "    <tr style=\"text-align: right;\">\n",
       "      <th></th>\n",
       "      <th>row_number</th>\n",
       "      <th>user_id</th>\n",
       "      <th>product</th>\n",
       "      <th>site_version</th>\n",
       "      <th>time</th>\n",
       "      <th>title</th>\n",
       "      <th>target</th>\n",
       "    </tr>\n",
       "  </thead>\n",
       "  <tbody>\n",
       "    <tr>\n",
       "      <th>0</th>\n",
       "      <td>1</td>\n",
       "      <td>c81e728d9d4c2f636f067f89cc14862c</td>\n",
       "      <td>sneakers</td>\n",
       "      <td>desktop</td>\n",
       "      <td>2019-01-11 09:24:43</td>\n",
       "      <td>banner_click</td>\n",
       "      <td>0</td>\n",
       "    </tr>\n",
       "    <tr>\n",
       "      <th>1</th>\n",
       "      <td>2</td>\n",
       "      <td>eccbc87e4b5ce2fe28308fd9f2a7baf3</td>\n",
       "      <td>sneakers</td>\n",
       "      <td>desktop</td>\n",
       "      <td>2019-01-09 09:38:51</td>\n",
       "      <td>banner_show</td>\n",
       "      <td>0</td>\n",
       "    </tr>\n",
       "    <tr>\n",
       "      <th>2</th>\n",
       "      <td>3</td>\n",
       "      <td>eccbc87e4b5ce2fe28308fd9f2a7baf3</td>\n",
       "      <td>sports_nutrition</td>\n",
       "      <td>desktop</td>\n",
       "      <td>2019-01-09 09:12:45</td>\n",
       "      <td>banner_show</td>\n",
       "      <td>0</td>\n",
       "    </tr>\n",
       "    <tr>\n",
       "      <th>3</th>\n",
       "      <td>4</td>\n",
       "      <td>eccbc87e4b5ce2fe28308fd9f2a7baf3</td>\n",
       "      <td>company</td>\n",
       "      <td>desktop</td>\n",
       "      <td>2019-01-03 08:58:18</td>\n",
       "      <td>banner_show</td>\n",
       "      <td>0</td>\n",
       "    </tr>\n",
       "    <tr>\n",
       "      <th>4</th>\n",
       "      <td>5</td>\n",
       "      <td>eccbc87e4b5ce2fe28308fd9f2a7baf3</td>\n",
       "      <td>company</td>\n",
       "      <td>desktop</td>\n",
       "      <td>2019-01-03 08:59:15</td>\n",
       "      <td>banner_click</td>\n",
       "      <td>0</td>\n",
       "    </tr>\n",
       "  </tbody>\n",
       "</table>\n",
       "</div>"
      ],
      "text/plain": [
       "   row_number                           user_id           product  \\\n",
       "0           1  c81e728d9d4c2f636f067f89cc14862c          sneakers   \n",
       "1           2  eccbc87e4b5ce2fe28308fd9f2a7baf3          sneakers   \n",
       "2           3  eccbc87e4b5ce2fe28308fd9f2a7baf3  sports_nutrition   \n",
       "3           4  eccbc87e4b5ce2fe28308fd9f2a7baf3           company   \n",
       "4           5  eccbc87e4b5ce2fe28308fd9f2a7baf3           company   \n",
       "\n",
       "  site_version                 time         title target  \n",
       "0      desktop  2019-01-11 09:24:43  banner_click      0  \n",
       "1      desktop  2019-01-09 09:38:51   banner_show      0  \n",
       "2      desktop  2019-01-09 09:12:45   banner_show      0  \n",
       "3      desktop  2019-01-03 08:58:18   banner_show      0  \n",
       "4      desktop  2019-01-03 08:59:15  banner_click      0  "
      ]
     },
     "execution_count": 7,
     "metadata": {},
     "output_type": "execute_result"
    }
   ],
   "source": [
    "# product, site_version and title columns have only 5, 2 and 3 unique values, so it is a good opportunity to change them to the category type\n",
    "for col in ['product', 'site_version', 'title']:\n",
    "    queryDF[col] = queryDF[col].astype('category')\n",
    "print(queryDF.info(memory_usage = 'deep'))\n",
    "queryDF.head()"
   ]
  },
  {
   "cell_type": "code",
   "execution_count": 8,
   "metadata": {},
   "outputs": [
    {
     "name": "stdout",
     "output_type": "stream",
     "text": [
      "Products on banners:  [sneakers, sports_nutrition, company, accessories, clothes]\n",
      "Categories (5, object): [sneakers, sports_nutrition, company, accessories, clothes]\n"
     ]
    }
   ],
   "source": [
    "print('Products on banners: ', queryDF['product'].unique())"
   ]
  },
  {
   "cell_type": "code",
   "execution_count": 9,
   "metadata": {},
   "outputs": [
    {
     "name": "stdout",
     "output_type": "stream",
     "text": [
      "Site versions:  [desktop, mobile]\n",
      "Categories (2, object): [desktop, mobile]\n"
     ]
    }
   ],
   "source": [
    "print('Site versions: ', queryDF.site_version.unique())"
   ]
  },
  {
   "cell_type": "code",
   "execution_count": 10,
   "metadata": {},
   "outputs": [
    {
     "name": "stdout",
     "output_type": "stream",
     "text": [
      "Page events:  [banner_click, banner_show, order]\n",
      "Categories (3, object): [banner_click, banner_show, order]\n"
     ]
    }
   ],
   "source": [
    "print('Page events: ', queryDF.title.unique())"
   ]
  },
  {
   "cell_type": "code",
   "execution_count": 11,
   "metadata": {},
   "outputs": [
    {
     "data": {
      "image/png": "[encoded data removed]",
      "text/plain": [
       "<Figure size 504x504 with 1 Axes>"
      ]
     },
     "metadata": {},
     "output_type": "display_data"
    }
   ],
   "source": [
    "# Data Analysis\n",
    "\n",
    "ax=queryDF.groupby(['site_version']).count()['target'].plot.pie(figsize=(7,7),autopct='%1.0f%%')\n",
    "ax.set_ylabel('')\n",
    "ax.set_title('Response distributions for different sites')\n",
    "plt.show()"
   ]
  },
  {
   "cell_type": "code",
   "execution_count": 12,
   "metadata": {},
   "outputs": [
    {
     "data": {
      "image/png": "[encoded data removed]",
      "text/plain": [
       "<Figure size 504x504 with 1 Axes>"
      ]
     },
     "metadata": {},
     "output_type": "display_data"
    }
   ],
   "source": [
    "ax=queryDF.groupby(['title']).count()['target'].plot.pie(figsize=(7,7),autopct='%1.0f%%')\n",
    "ax.set_ylabel('')\n",
    "ax.set_title('Response distributions for different titles')\n",
    "plt.show()"
   ]
  },
  {
   "cell_type": "code",
   "execution_count": 13,
   "metadata": {},
   "outputs": [
    {
     "data": {
      "image/png": "[encoded data removed]",
      "text/plain": [
       "<Figure size 504x504 with 1 Axes>"
      ]
     },
     "metadata": {
      "needs_background": "light"
     },
     "output_type": "display_data"
    }
   ],
   "source": [
    "ax=queryDF.groupby(['site_version','title']).count()['target'].unstack('title').plot(kind='bar',figsize=(7,7),grid=True)\n",
    "ax.set_ylabel('count')\n",
    "ax.set_title('Breakdowns of titles across different sites')\n",
    "plt.show()"
   ]
  },
  {
   "cell_type": "code",
   "execution_count": 14,
   "metadata": {},
   "outputs": [
    {
     "data": {
      "image/png": "[encoded data removed]",
      "text/plain": [
       "<Figure size 864x1080 with 1 Axes>"
      ]
     },
     "metadata": {
      "needs_background": "light"
     },
     "output_type": "display_data"
    }
   ],
   "source": [
    "ax=queryDF.groupby(['product','site_version']).count()['target'].unstack('site_version').iloc[::-1].plot(kind='barh',figsize=(12,15),grid=True)\n",
    "ax.set_ylabel('product')\n",
    "ax.set_xlabel('count')\n",
    "ax.set_title('Overall distributions of product for different sites')\n",
    "plt.show()"
   ]
  }
 ],
 "metadata": {
  "kernelspec": {
   "display_name": "Python 3",
   "language": "python",
   "name": "python3"
  },
  "language_info": {
   "codemirror_mode": {
    "name": "ipython",
    "version": 3
   },
   "file_extension": ".py",
   "mimetype": "text/x-python",
   "name": "python",
   "nbconvert_exporter": "python",
   "pygments_lexer": "ipython3",
   "version": "3.8.3"
  }
 },
 "nbformat": 4,
 "nbformat_minor": 4
}
